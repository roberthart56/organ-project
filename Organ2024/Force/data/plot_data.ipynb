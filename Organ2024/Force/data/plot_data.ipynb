{
 "cells": [
  {
   "cell_type": "code",
   "execution_count": 15,
   "metadata": {},
   "outputs": [
    {
     "data": {
      "image/png": "[encoded data removed]",
      "text/plain": [
       "<Figure size 600x400 with 1 Axes>"
      ]
     },
     "metadata": {},
     "output_type": "display_data"
    }
   ],
   "source": [
    "    import numpy as np\n",
    "    import matplotlib.pyplot as plt\n",
    "    \n",
    "    raw_to_N = 108215/0.98\n",
    "\n",
    "\n",
    "    # Define the file name\n",
    "    file_name = \"choir_e3_1.6.25.txt\"\n",
    "\n",
    "    # Initialize lists to store the data\n",
    "    z_data = []\n",
    "    F_data = []\n",
    "\n",
    "    # Open the file and process it\n",
    "    with open(file_name, 'r') as file:\n",
    "        inside_comments = False\n",
    "        for line in file:\n",
    "            line = line.strip()\n",
    "        \n",
    "            # Toggle the inside_comments flag when encountering triple quotes\n",
    "            if line.startswith(\"'''\"):\n",
    "                inside_comments = not inside_comments\n",
    "                continue\n",
    "        \n",
    "            # Skip lines inside the triple-quoted block\n",
    "            if inside_comments or not line:\n",
    "                continue\n",
    "        \n",
    "            # Process valid data lines\n",
    "            values = line.split(',')\n",
    "            z_data.append(float(values[0]))\n",
    "            F_data.append(float(values[1]))\n",
    "\n",
    "    # Convert lists to numpy arrays\n",
    "    z_data = np.array(z_data)\n",
    "    F_data = np.array(F_data)\n",
    "\n",
    "\n",
    "    z_data = z_data - (0.013)  # subtract starting z corresponding to top of key \n",
    "    z = z_data*25.4   #to mm\n",
    "    \n",
    "    F = F_data/raw_to_N\n",
    "    \n",
    "     \n",
    "    fig = plt.figure(figsize=(6, 4))\n",
    "    plt.title('Force vs z')\n",
    "    plt.xlabel('z (mm)')\n",
    "    plt.ylabel('F (N)')\n",
    "    plt.plot(z, F,'ro', markersize=3\n",
    "            )\n",
    "    \n",
    "    plt.savefig(\"COS_choir_e3.png\", format=\"png\", dpi=300)\n",
    "    \n",
    "    plt.show()"
   ]
  },
  {
   "cell_type": "code",
   "execution_count": 6,
   "metadata": {},
   "outputs": [
    {
     "data": {
      "text/plain": [
       "array([-0.01,  0.  ,  0.01,  0.02,  0.03,  0.04,  0.06,  0.08,  0.1 ,\n",
       "        0.14,  0.18,  0.22,  0.26,  0.3 ,  0.31])"
      ]
     },
     "execution_count": 6,
     "metadata": {},
     "output_type": "execute_result"
    }
   ],
   "source": [
    "z_data\n"
   ]
  },
  {
   "cell_type": "code",
   "execution_count": null,
   "metadata": {},
   "outputs": [],
   "source": []
  }
 ],
 "metadata": {
  "kernelspec": {
   "display_name": "Python 3 (ipykernel)",
   "language": "python",
   "name": "python3"
  },
  "language_info": {
   "codemirror_mode": {
    "name": "ipython",
    "version": 3
   },
   "file_extension": ".py",
   "mimetype": "text/x-python",
   "name": "python",
   "nbconvert_exporter": "python",
   "pygments_lexer": "ipython3",
   "version": "3.10.9"
  }
 },
 "nbformat": 4,
 "nbformat_minor": 1
}
