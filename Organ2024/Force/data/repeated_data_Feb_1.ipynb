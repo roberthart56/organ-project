{
 "cells": [
  {
   "cell_type": "code",
   "execution_count": 8,
   "metadata": {},
   "outputs": [
    {
     "data": {
      "image/png": "[encoded data removed]",
      "text/plain": [
       "<Figure size 864x576 with 1 Axes>"
      ]
     },
     "metadata": {
      "needs_background": "light"
     },
     "output_type": "display_data"
    }
   ],
   "source": [
    "    import numpy as np\n",
    "    import matplotlib.pyplot as plt\n",
    "\n",
    "\n",
    "    # Define the file name\n",
    "    file_name = \"data.txt\"\n",
    "\n",
    "    # Initialize lists to store the data\n",
    "    z_data = []\n",
    "    F_data = []\n",
    "\n",
    "    # Open the file and process it\n",
    "    with open(file_name, 'r') as file:\n",
    "        inside_comments = False\n",
    "        for line in file:\n",
    "            line = line.strip()\n",
    "        \n",
    "            # Toggle the inside_comments flag when encountering triple quotes\n",
    "            if line.startswith(\"'''\"):\n",
    "                inside_comments = not inside_comments\n",
    "                continue\n",
    "        \n",
    "            # Skip lines inside the triple-quoted block\n",
    "            if inside_comments or not line:\n",
    "                continue\n",
    "        \n",
    "            # Process valid data lines\n",
    "            values = line.split(',')\n",
    "            column1.append(float(values[0]))\n",
    "            column2.append(float(values[1]))\n",
    "\n",
    "    # Convert lists to numpy arrays\n",
    "    z_data = np.array(z_data)\n",
    "    F_data = np.array(F_data)\n",
    "\n",
    "    # Output the arrays\n",
    "    print(\"Column 1:\", z_data)\n",
    "    print(\"Column 2:\", F_data)\n",
    "\n",
    "    \n",
    "    \n",
    "    \n",
    "     \n",
    "#     fig = plt.figure(figsize=(12, 8))\n",
    "#     plt.title('Trapping time for repeated runs')\n",
    "#     plt.xlabel('Run number')\n",
    "#     plt.ylabel('Trapping time (s)')\n",
    "# #     plt.errorbar(rps_1, mean_times_1,   yerr=error_bars_1, fmt='or')\n",
    "\n",
    "#     plt.plot(run[0], P3_01,'ro',\n",
    "#              run[1], P3_02,'ro',\n",
    "#              run[2], P3_03,'ro',\n",
    "#              run[3], P3_04,'ro',\n",
    "#              run[4], P3_05,'ro')\n",
    "    \n",
    "\n",
    "    \n",
    "#     plt.show()"
   ]
  },
  {
   "cell_type": "code",
   "execution_count": 11,
   "metadata": {
    "scrolled": true
   },
   "outputs": [
    {
     "data": {
      "text/plain": [
       "(array([ 0.98,  1.16,  1.36,  1.88,  3.38, 16.36, 33.86, 40.84, 44.9 ,\n",
       "        36.26, 25.92, 26.88, 22.04, 32.2 , 25.06]),\n",
       " array([ 2.3 ,  1.58,  1.58,  1.84,  3.58, 22.02, 32.26, 41.16, 41.  ,\n",
       "        40.96, 35.72, 34.16, 26.1 , 28.34, 26.76]))"
      ]
     },
     "execution_count": 11,
     "metadata": {},
     "output_type": "execute_result"
    }
   ],
   "source": [
    "mean_times_1, mean_times_2"
   ]
  },
  {
   "cell_type": "code",
   "execution_count": null,
   "metadata": {},
   "outputs": [],
   "source": []
  }
 ],
 "metadata": {
  "kernelspec": {
   "display_name": "Python 3 (ipykernel)",
   "language": "python",
   "name": "python3"
  },
  "language_info": {
   "codemirror_mode": {
    "name": "ipython",
    "version": 3
   },
   "file_extension": ".py",
   "mimetype": "text/x-python",
   "name": "python",
   "nbconvert_exporter": "python",
   "pygments_lexer": "ipython3",
   "version": "3.13.2"
  }
 },
 "nbformat": 4,
 "nbformat_minor": 4
}
